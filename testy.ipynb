{
 "cells": [
  {
   "cell_type": "code",
   "execution_count": 29,
   "metadata": {},
   "outputs": [
    {
     "name": "stdout",
     "output_type": "stream",
     "text": [
      "FBI uncovers hidden JFK assassination files after Trump orders full evidence release \n"
     ]
    }
   ],
   "source": [
    "import pandas as pd\n",
    "\n",
    "df_tsv = pd.read_csv('headline1.tsv', delimiter='\\t')\n",
    "tableLength = df_tsv.shape[0]\n",
    "blockCount = df_tsv.loc[tableLength-1]['block_num']\n",
    "temp = 0\n",
    "currBlock = 0\n",
    "tempArray = []\n",
    "heightArray = []\n",
    "wordArr = []\n",
    "tempWordSalad = \"\"\n",
    "currWordNum = 0\n",
    "currLineNum = 0\n",
    "for cell in df_tsv.iterrows():\n",
    "    if (df_tsv.loc[temp]['block_num'] > currBlock):\n",
    "        sum = 0\n",
    "        if (len(tempArray) >= 5):\n",
    "            for i in tempArray:\n",
    "                sum = sum + i\n",
    "            heightArray.append(sum/len(tempArray))\n",
    "            tempWordSalad = str(df_tsv.loc[temp]['block_num'] - 1)  + tempWordSalad\n",
    "            wordArr.append(tempWordSalad)\n",
    "        \n",
    "        currBlock = df_tsv.loc[temp]['block_num']\n",
    "        tempArray = []\n",
    "        tempWordSalad = \"\"\n",
    "        currWordNum = 0\n",
    "        currLineNum = 0\n",
    "    \n",
    "    if (df_tsv.loc[temp]['line_num'] > currLineNum):\n",
    "        currWordNum = 0\n",
    "        currLineNum = df_tsv.loc[temp]['line_num']\n",
    "    \n",
    "    # need to check if df_tsv.loc[temp]['conf'] (maybe)\n",
    "    if (df_tsv.loc[temp]['word_num'] != 0 and df_tsv.loc[temp]['conf'] != -1 and df_tsv.loc[temp]['word_num'] > currWordNum and df_tsv.loc[temp]['text'] != \" \"):\n",
    "        tempArray.append(df_tsv.loc[temp]['height'])\n",
    "        tempWordSalad = tempWordSalad + \", \" + df_tsv.loc[temp]['text']\n",
    "        currWordNum = df_tsv.loc[temp]['word_num']\n",
    "\n",
    "    temp = temp+1\n",
    "currHighestAverage = 0\n",
    "currHighestAverageIndexNumber = 0\n",
    "temp = 0\n",
    "for val in heightArray:\n",
    "    if val > currHighestAverage:\n",
    "        currHighestAverage = val\n",
    "        currHighestAverageIndexNumber = temp\n",
    "    temp = temp+1\n",
    "\n",
    "temp = 0\n",
    "searchPhrase = \"\"\n",
    "for cell in df_tsv.iterrows():\n",
    "    if (str(df_tsv.loc[temp]['block_num']) == wordArr[currHighestAverageIndexNumber].split(',')[0]):\n",
    "        if (df_tsv.loc[temp]['word_num'] != 0 and df_tsv.loc[temp]['conf'] > 60 and df_tsv.loc[temp]['word_num'] > currWordNum and df_tsv.loc[temp]['height'] > currHighestAverage * 0.6):\n",
    "            searchPhrase = searchPhrase + df_tsv.loc[temp]['text'] + \" \"\n",
    "    temp = temp + 1\n",
    "print(searchPhrase)\n",
    "\n",
    "\n"
   ]
  }
 ],
 "metadata": {
  "kernelspec": {
   "display_name": "Python 3.12.3 64-bit",
   "language": "python",
   "name": "python3"
  },
  "language_info": {
   "codemirror_mode": {
    "name": "ipython",
    "version": 3
   },
   "file_extension": ".py",
   "mimetype": "text/x-python",
   "name": "python",
   "nbconvert_exporter": "python",
   "pygments_lexer": "ipython3",
   "version": "3.12.3"
  },
  "orig_nbformat": 4,
  "vscode": {
   "interpreter": {
    "hash": "3fcbd7240ee8f908d933dc7f71e8c42a1a91163b70ede8dcff5146d4087436c7"
   }
  }
 },
 "nbformat": 4,
 "nbformat_minor": 2
}
