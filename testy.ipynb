{
 "cells": [
  {
   "cell_type": "code",
   "execution_count": 2,
   "metadata": {},
   "outputs": [
    {
     "name": "stdout",
     "output_type": "stream",
     "text": [
      "\n",
      ",  \n",
      ", Privacy, Policy, |, Feedback, [, fFottow, 22.5, ], 22.5M, Tuesday,, Feb, 11th, 2025, 10PM, -1°F, «, 1AM, -6°F, «., 5-Day, Forecast\n",
      ", Daily, Mail, News\n",
      ", Home, |, Showbiz, |, TV, [5\n",
      ",  \n",
      ", Video, |, Shopping\n",
      ",  ,  ,  ,  ,  ,  ,  ,    \n",
      ",  \n",
      ",  \n",
      ",  \n",
      ", FBI, uncovers, hidden, JFK, assassination, ste, web], Enter, your, search, [EN, SRG, files, after, Trump, orders, full, evidence, release, Se\n",
      ", mafia, fear, to, tread:, «, Welcome, to, MAGAland, Podcast:, Trump, vs, Taylor,, Kendrick, vs, MAGA,, plus, what, Ute, DE, Ses\n",
      ", ‘, A, ., Britain's, drugs, trade,, does, the, President, have, against, Meghan, Markle?, Listen, here., but, as, our, gang, map\n",
      ", reveals,, Balkan\n",
      ", gangsters, have, been, By, STEPHEN, M., LEPORE, FOR, DAILYMAIL.COM, unabl...\n",
      ", PUBLISHED:, 18:00, EST,, 10, February, 2025, |, UPDATED:, 06:18, EST,, 11, February, 2025\n",
      ",  \n",
      ", >, Insiders, reveal, why\n",
      ", Donald, Trump, has, zero, FIESS, ©, RAG, =, 791, et, Stare:, shares, View, comments, Harry, and, Meghan, out\n",
      ", of, the, US, -, and, how, King, Charles, has\n",
      ",  \n",
      ", Donald, Trump's, plan, to, release, the, files, tied, to, the, assassination, of, John, F., played, a, key, role, in, his, Kennedy, has, already, unearthed, nearly, 2,400, new, documents, that, could, shed, light, decsion, on, the, mystery., (0B, why, Gordon\n",
      ", Ramsay, is, ‘throwing, In, late, January,, Trump, signed, an, executive, order, authorizing, the, release, of, the, career, ated, remaining, classified, records, about, the, 1963, shooting, in, one, of, his, first, acts, upon, ‘horrid’, remark, about\n",
      ", fi, -, Holly, Willoughby, is, returning, to, the, White, House., ree)\n"
     ]
    }
   ],
   "source": [
    "import pandas as pd\n",
    "\n",
    "df_tsv = pd.read_csv('headline1.tsv', delimiter='\\t')\n",
    "tableLength = df_tsv.shape[0]\n",
    "blockCount = df_tsv.loc[tableLength-1]['block_num']\n",
    "temp = 0\n",
    "currBlock = 0\n",
    "tempArray = []\n",
    "heightArray = []\n",
    "wordArr = []\n",
    "tempWordSalad = \"\"\n",
    "currWordNum = 0\n",
    "currLineNum = 0\n",
    "for cell in df_tsv.iterrows():\n",
    "    if (df_tsv.loc[temp]['block_num'] > currBlock):\n",
    "        sum = 0\n",
    "        if (len(tempArray) >= 5):\n",
    "            for i in tempArray:\n",
    "                sum = sum + i\n",
    "            heightArray.append(sum/len(tempArray))\n",
    "            wordArr.append(tempWordSalad)\n",
    "        \n",
    "        currBlock = df_tsv.loc[temp]['block_num']\n",
    "        tempArray = []\n",
    "        print(tempWordSalad)\n",
    "        tempWordSalad = \"\"\n",
    "        currWordNum = 0\n",
    "        currLineNum = 0\n",
    "    \n",
    "    if (df_tsv.loc[temp]['line_num'] > currLineNum):\n",
    "        currWordNum = 0\n",
    "        currLineNum = df_tsv.loc[temp]['line_num']\n",
    "    \n",
    "    # need to check if df_tsv.loc[temp]['conf'] (maybe)\n",
    "    if (df_tsv.loc[temp]['word_num'] != 0 and df_tsv.loc[temp]['conf'] != -1 and df_tsv.loc[temp]['word_num'] > currWordNum and df_tsv.loc[temp]['text'] != \" \"):\n",
    "        tempArray.append(df_tsv.loc[temp]['height'])\n",
    "        tempWordSalad = tempWordSalad + \", \" + df_tsv.loc[temp]['text']\n",
    "        currWordNum = df_tsv.loc[temp]['word_num']\n",
    "\n",
    "    temp = temp+1\n"
   ]
  }
 ],
 "metadata": {
  "kernelspec": {
   "display_name": "Python 3.12.3 64-bit",
   "language": "python",
   "name": "python3"
  },
  "language_info": {
   "codemirror_mode": {
    "name": "ipython",
    "version": 3
   },
   "file_extension": ".py",
   "mimetype": "text/x-python",
   "name": "python",
   "nbconvert_exporter": "python",
   "pygments_lexer": "ipython3",
   "version": "3.12.3"
  },
  "orig_nbformat": 4,
  "vscode": {
   "interpreter": {
    "hash": "3fcbd7240ee8f908d933dc7f71e8c42a1a91163b70ede8dcff5146d4087436c7"
   }
  }
 },
 "nbformat": 4,
 "nbformat_minor": 2
}
