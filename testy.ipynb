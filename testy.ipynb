{
 "cells": [
  {
   "cell_type": "code",
   "execution_count": 4,
   "metadata": {},
   "outputs": [
    {
     "name": "stdout",
     "output_type": "stream",
     "text": [
      "1\n",
      "4\n",
      "24\n",
      "6\n",
      "9\n",
      "4\n",
      "6\n",
      "15\n",
      "4\n",
      "4\n",
      "4\n",
      "25\n",
      "24\n",
      "24\n",
      "5\n",
      "14\n",
      "16\n",
      "4\n",
      "7\n",
      "23\n",
      "13\n",
      "4\n",
      "44\n",
      "40\n",
      "15\n"
     ]
    }
   ],
   "source": [
    "import pandas as pd\n",
    "\n",
    "df_tsv = pd.read_csv('headline1.tsv', delimiter='\\t')\n",
    "tableLength = df_tsv.shape[0]\n",
    "blockCount = df_tsv.loc[tableLength-1]['block_num']\n",
    "temp = 0\n",
    "currBlock = 0\n",
    "tempArray = []\n",
    "heightArray = []\n",
    "for cell in df_tsv.iterrows():\n",
    "    if (df_tsv.loc[temp]['block_num'] > currBlock):\n",
    "        sum = 0\n",
    "        print(len(tempArray))\n",
    "        #need to check if len(tempArray) >= 5\n",
    "        for i in tempArray:\n",
    "            sum = sum + i\n",
    "        heightArray.append(sum/len(tempArray))\n",
    "        \n",
    "        currBlock = df_tsv.loc[temp]['block_num']\n",
    "        tempArray = []\n",
    "    \n",
    "    # need to check if df_tsv.loc[temp]['conf'] (maybe)\n",
    "    tempArray.append(df_tsv.loc[temp]['height'])\n",
    "    temp = temp+1\n"
   ]
  }
 ],
 "metadata": {
  "kernelspec": {
   "display_name": "Python 3.12.3 64-bit",
   "language": "python",
   "name": "python3"
  },
  "language_info": {
   "codemirror_mode": {
    "name": "ipython",
    "version": 3
   },
   "file_extension": ".py",
   "mimetype": "text/x-python",
   "name": "python",
   "nbconvert_exporter": "python",
   "pygments_lexer": "ipython3",
   "version": "3.12.3"
  },
  "orig_nbformat": 4,
  "vscode": {
   "interpreter": {
    "hash": "3fcbd7240ee8f908d933dc7f71e8c42a1a91163b70ede8dcff5146d4087436c7"
   }
  }
 },
 "nbformat": 4,
 "nbformat_minor": 2
}
